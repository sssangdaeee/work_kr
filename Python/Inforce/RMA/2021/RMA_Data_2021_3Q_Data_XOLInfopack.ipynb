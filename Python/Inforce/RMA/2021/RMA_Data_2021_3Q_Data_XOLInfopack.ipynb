{
 "cells": [
  {
   "cell_type": "code",
   "execution_count": 1,
   "id": "cbbf3476",
   "metadata": {},
   "outputs": [],
   "source": [
    "import pandas as pd"
   ]
  },
  {
   "cell_type": "code",
   "execution_count": 2,
   "id": "513a6cc5",
   "metadata": {},
   "outputs": [],
   "source": [
    "filenames = ['202109 Korean Re Inforce File - PFS_KOR_1', \n",
    "             '202109 Korean Re Inforce File - PFS_KOR_2',\n",
    "             '202109 Korean Re Inforce File - PFS_KOR_3',\n",
    "            '202109 Korean Re Inforce File - PFS_KOR_4',\n",
    "            '202109 Korean Re Inforce File - PFS_KRC',\n",
    "            '202109 Korean Re Inforce File - PFS_KRS, PFS_KRP',\n",
    "             '202109 Korean Re Inforce File - PRU, NYL, PFSC, Lincoln, Principal']"
   ]
  },
  {
   "cell_type": "code",
   "execution_count": 3,
   "id": "8b0804c4",
   "metadata": {
    "scrolled": true
   },
   "outputs": [
    {
     "name": "stdout",
     "output_type": "stream",
     "text": [
      "Loading 202109 Korean Re Inforce File - PFS_KOR_1\n",
      "Loading 202109 Korean Re Inforce File - PFS_KOR_2\n",
      "Loading 202109 Korean Re Inforce File - PFS_KOR_3\n",
      "Loading 202109 Korean Re Inforce File - PFS_KOR_4\n",
      "Loading 202109 Korean Re Inforce File - PFS_KRC\n",
      "Loading 202109 Korean Re Inforce File - PFS_KRS, PFS_KRP\n",
      "Loading 202109 Korean Re Inforce File - PRU, NYL, PFSC, Lincoln, Principal\n",
      "Data loading is completed!\n"
     ]
    }
   ],
   "source": [
    "dfs = []\n",
    "\n",
    "for fname in filenames:\n",
    "    print('Loading {}'.format(fname))\n",
    "    df = pd.read_csv('data/{}.csv'.format(fname), low_memory = False)\n",
    "    df = df[['StatementDate','CedingCompany', 'Coverage_CededNetAmountRisk']]\n",
    "    dfs.append(df)\n",
    "\n",
    "print('Data loading is completed!')"
   ]
  },
  {
   "cell_type": "code",
   "execution_count": 4,
   "id": "928345e3",
   "metadata": {},
   "outputs": [],
   "source": [
    "df_merged = pd.concat(dfs)"
   ]
  },
  {
   "cell_type": "code",
   "execution_count": 5,
   "id": "9f660d3a",
   "metadata": {},
   "outputs": [],
   "source": [
    "def RiskProfile(lower, upper):\n",
    "    count = len(df_merged[(df_merged['Coverage_CededNetAmountRisk'] >= lower) & (df_merged['Coverage_CededNetAmountRisk'] < upper)])\n",
    "    NAR = df_merged[(df_merged['Coverage_CededNetAmountRisk'] >= lower) & (df_merged['Coverage_CededNetAmountRisk'] < upper)]['Coverage_CededNetAmountRisk'].sum()\n",
    "    return [count, NAR]"
   ]
  },
  {
   "cell_type": "code",
   "execution_count": 6,
   "id": "226fd690",
   "metadata": {},
   "outputs": [
    {
     "data": {
      "text/plain": [
       "[3620880, 25029142071]"
      ]
     },
     "execution_count": 6,
     "metadata": {},
     "output_type": "execute_result"
    }
   ],
   "source": [
    "RiskProfile(0,20000)"
   ]
  },
  {
   "cell_type": "code",
   "execution_count": 7,
   "id": "6d3fca93",
   "metadata": {},
   "outputs": [],
   "source": [
    "lower = [0,20000,40000,60000,80000,100000,150000,200000,250000,500000,1000000,1500000,2000000,2500000,3000000,4000000]\n",
    "upper = [20000,40000,60000,80000,100000,150000,200000,250000,500000,1000000,1500000,2000000,2500000,3000000,4000000,10000000]"
   ]
  },
  {
   "cell_type": "code",
   "execution_count": 8,
   "id": "29cc3735",
   "metadata": {},
   "outputs": [],
   "source": [
    "results = []\n",
    "\n",
    "for low, up in zip(lower, upper) :\n",
    "    row = []\n",
    "    row.append(low)\n",
    "    row.append(up)\n",
    "    row.append(RiskProfile(lower=low,upper=up)[0])\n",
    "    row.append(RiskProfile(lower=low,upper=up)[1])\n",
    "    results.append(row)"
   ]
  },
  {
   "cell_type": "code",
   "execution_count": 9,
   "id": "b1276231",
   "metadata": {},
   "outputs": [
    {
     "data": {
      "text/plain": [
       "[[0, 20000, 3620880, 25029142071],\n",
       " [20000, 40000, 946557, 26055818954],\n",
       " [40000, 60000, 379289, 18198384008],\n",
       " [60000, 80000, 115124, 7813437599],\n",
       " [80000, 100000, 100533, 9007818087],\n",
       " [100000, 150000, 59873, 6785516317],\n",
       " [150000, 200000, 21726, 3701501264],\n",
       " [200000, 250000, 7854, 1636780039],\n",
       " [250000, 500000, 11934, 3844192660],\n",
       " [500000, 1000000, 4670, 3193031592],\n",
       " [1000000, 1500000, 1067, 1256733423],\n",
       " [1500000, 2000000, 559, 984672976],\n",
       " [2000000, 2500000, 283, 623665015],\n",
       " [2500000, 3000000, 122, 335816898],\n",
       " [3000000, 4000000, 119, 407795897],\n",
       " [4000000, 10000000, 213, 1016375143]]"
      ]
     },
     "execution_count": 9,
     "metadata": {},
     "output_type": "execute_result"
    }
   ],
   "source": [
    "results"
   ]
  },
  {
   "cell_type": "code",
   "execution_count": 12,
   "id": "79538599",
   "metadata": {},
   "outputs": [],
   "source": [
    "column_name = ['Min NAR', 'Max NAR', 'No. of insureds', 'NAR']"
   ]
  },
  {
   "cell_type": "code",
   "execution_count": 23,
   "id": "24983acb",
   "metadata": {},
   "outputs": [],
   "source": [
    "df = pd.DataFrame (results, columns = [column_name])"
   ]
  },
  {
   "cell_type": "code",
   "execution_count": 24,
   "id": "c77f30aa",
   "metadata": {},
   "outputs": [
    {
     "data": {
      "text/html": [
       "<div>\n",
       "<style scoped>\n",
       "    .dataframe tbody tr th:only-of-type {\n",
       "        vertical-align: middle;\n",
       "    }\n",
       "\n",
       "    .dataframe tbody tr th {\n",
       "        vertical-align: top;\n",
       "    }\n",
       "\n",
       "    .dataframe thead tr th {\n",
       "        text-align: left;\n",
       "    }\n",
       "</style>\n",
       "<table border=\"1\" class=\"dataframe\">\n",
       "  <thead>\n",
       "    <tr>\n",
       "      <th></th>\n",
       "      <th>Min NAR</th>\n",
       "      <th>Max NAR</th>\n",
       "      <th>No. of insureds</th>\n",
       "      <th>NAR</th>\n",
       "    </tr>\n",
       "  </thead>\n",
       "  <tbody>\n",
       "    <tr>\n",
       "      <th>0</th>\n",
       "      <td>0</td>\n",
       "      <td>20000</td>\n",
       "      <td>3620880</td>\n",
       "      <td>25029142071</td>\n",
       "    </tr>\n",
       "    <tr>\n",
       "      <th>1</th>\n",
       "      <td>20000</td>\n",
       "      <td>40000</td>\n",
       "      <td>946557</td>\n",
       "      <td>26055818954</td>\n",
       "    </tr>\n",
       "    <tr>\n",
       "      <th>2</th>\n",
       "      <td>40000</td>\n",
       "      <td>60000</td>\n",
       "      <td>379289</td>\n",
       "      <td>18198384008</td>\n",
       "    </tr>\n",
       "    <tr>\n",
       "      <th>3</th>\n",
       "      <td>60000</td>\n",
       "      <td>80000</td>\n",
       "      <td>115124</td>\n",
       "      <td>7813437599</td>\n",
       "    </tr>\n",
       "    <tr>\n",
       "      <th>4</th>\n",
       "      <td>80000</td>\n",
       "      <td>100000</td>\n",
       "      <td>100533</td>\n",
       "      <td>9007818087</td>\n",
       "    </tr>\n",
       "    <tr>\n",
       "      <th>5</th>\n",
       "      <td>100000</td>\n",
       "      <td>150000</td>\n",
       "      <td>59873</td>\n",
       "      <td>6785516317</td>\n",
       "    </tr>\n",
       "    <tr>\n",
       "      <th>6</th>\n",
       "      <td>150000</td>\n",
       "      <td>200000</td>\n",
       "      <td>21726</td>\n",
       "      <td>3701501264</td>\n",
       "    </tr>\n",
       "    <tr>\n",
       "      <th>7</th>\n",
       "      <td>200000</td>\n",
       "      <td>250000</td>\n",
       "      <td>7854</td>\n",
       "      <td>1636780039</td>\n",
       "    </tr>\n",
       "    <tr>\n",
       "      <th>8</th>\n",
       "      <td>250000</td>\n",
       "      <td>500000</td>\n",
       "      <td>11934</td>\n",
       "      <td>3844192660</td>\n",
       "    </tr>\n",
       "    <tr>\n",
       "      <th>9</th>\n",
       "      <td>500000</td>\n",
       "      <td>1000000</td>\n",
       "      <td>4670</td>\n",
       "      <td>3193031592</td>\n",
       "    </tr>\n",
       "    <tr>\n",
       "      <th>10</th>\n",
       "      <td>1000000</td>\n",
       "      <td>1500000</td>\n",
       "      <td>1067</td>\n",
       "      <td>1256733423</td>\n",
       "    </tr>\n",
       "    <tr>\n",
       "      <th>11</th>\n",
       "      <td>1500000</td>\n",
       "      <td>2000000</td>\n",
       "      <td>559</td>\n",
       "      <td>984672976</td>\n",
       "    </tr>\n",
       "    <tr>\n",
       "      <th>12</th>\n",
       "      <td>2000000</td>\n",
       "      <td>2500000</td>\n",
       "      <td>283</td>\n",
       "      <td>623665015</td>\n",
       "    </tr>\n",
       "    <tr>\n",
       "      <th>13</th>\n",
       "      <td>2500000</td>\n",
       "      <td>3000000</td>\n",
       "      <td>122</td>\n",
       "      <td>335816898</td>\n",
       "    </tr>\n",
       "    <tr>\n",
       "      <th>14</th>\n",
       "      <td>3000000</td>\n",
       "      <td>4000000</td>\n",
       "      <td>119</td>\n",
       "      <td>407795897</td>\n",
       "    </tr>\n",
       "    <tr>\n",
       "      <th>15</th>\n",
       "      <td>4000000</td>\n",
       "      <td>10000000</td>\n",
       "      <td>213</td>\n",
       "      <td>1016375143</td>\n",
       "    </tr>\n",
       "  </tbody>\n",
       "</table>\n",
       "</div>"
      ],
      "text/plain": [
       "    Min NAR   Max NAR No. of insureds          NAR\n",
       "0         0     20000         3620880  25029142071\n",
       "1     20000     40000          946557  26055818954\n",
       "2     40000     60000          379289  18198384008\n",
       "3     60000     80000          115124   7813437599\n",
       "4     80000    100000          100533   9007818087\n",
       "5    100000    150000           59873   6785516317\n",
       "6    150000    200000           21726   3701501264\n",
       "7    200000    250000            7854   1636780039\n",
       "8    250000    500000           11934   3844192660\n",
       "9    500000   1000000            4670   3193031592\n",
       "10  1000000   1500000            1067   1256733423\n",
       "11  1500000   2000000             559    984672976\n",
       "12  2000000   2500000             283    623665015\n",
       "13  2500000   3000000             122    335816898\n",
       "14  3000000   4000000             119    407795897\n",
       "15  4000000  10000000             213   1016375143"
      ]
     },
     "execution_count": 24,
     "metadata": {},
     "output_type": "execute_result"
    }
   ],
   "source": [
    "df"
   ]
  },
  {
   "cell_type": "code",
   "execution_count": 28,
   "id": "f8fb651e",
   "metadata": {},
   "outputs": [],
   "source": [
    "excelfilename = 'Risk Profile as at 202109.xlsx'\n",
    "\n",
    "writer = pd.ExcelWriter(excelfilename, \n",
    "                        engine='xlsxwriter',\n",
    "                       datetime_format='mmm-yyyy')\n",
    "\n",
    "df.to_excel(writer)\n",
    "writer.save()"
   ]
  },
  {
   "cell_type": "code",
   "execution_count": null,
   "id": "8305b1ec",
   "metadata": {},
   "outputs": [],
   "source": []
  }
 ],
 "metadata": {
  "kernelspec": {
   "display_name": "Python 3",
   "language": "python",
   "name": "python3"
  },
  "language_info": {
   "codemirror_mode": {
    "name": "ipython",
    "version": 3
   },
   "file_extension": ".py",
   "mimetype": "text/x-python",
   "name": "python",
   "nbconvert_exporter": "python",
   "pygments_lexer": "ipython3",
   "version": "3.8.8"
  }
 },
 "nbformat": 4,
 "nbformat_minor": 5
}
